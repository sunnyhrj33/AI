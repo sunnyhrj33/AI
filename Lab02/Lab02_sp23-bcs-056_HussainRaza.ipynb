{
 "cells": [
  {
   "cell_type": "markdown",
   "metadata": {},
   "source": [
    "# Activity 1"
   ]
  },
  {
   "cell_type": "code",
   "execution_count": null,
   "metadata": {},
   "outputs": [
    {
     "name": "stdout",
     "output_type": "stream",
     "text": [
      "[1, 2, 3, 4, 5, 67, 8, 9, 0, 4]\n",
      "Your Joined List Is [1, 2, 3, 4, 5, 67, 8, 9, 0, 4]\n"
     ]
    }
   ],
   "source": [
    "List_1 = []\n",
    "for i in range (5):\n",
    "    value = int(input(\"Enter Value For 1st List\"))\n",
    "    List_1.append(value)\n",
    "    \n",
    "List_2 = []\n",
    "for i in range (5):\n",
    "    value = int(input(\"Enter Value For 2nd List\"))\n",
    "    List_2.append(value)\n",
    "    \n",
    "List_3 = List_1+List_2\n",
    "print(\"Your Joined List Is \"+str(List_3))   "
   ]
  },
  {
   "cell_type": "markdown",
   "metadata": {},
   "source": [
    "# Activity 2"
   ]
  },
  {
   "cell_type": "code",
   "execution_count": 10,
   "metadata": {},
   "outputs": [
    {
     "name": "stdout",
     "output_type": "stream",
     "text": [
      "The String:(sunny) Is Not A Palindrome.\n"
     ]
    }
   ],
   "source": [
    "string = input(\"Enter String: \")\n",
    "string = string.lower()\n",
    "if string == string[::-1]:\n",
    "    print(\"The String Is A Palindrome!\")\n",
    "else:\n",
    "    print(\"The String:(\"+string+\") Is Not A Palindrome.\")\n"
   ]
  },
  {
   "cell_type": "markdown",
   "metadata": {},
   "source": [
    "# Activity 3"
   ]
  },
  {
   "cell_type": "code",
   "execution_count": 12,
   "metadata": {},
   "outputs": [
    {
     "name": "stdout",
     "output_type": "stream",
     "text": [
      "[1, 2, 3]\n",
      "[8, 10, 12]\n",
      "[39, 45, 51]\n"
     ]
    }
   ],
   "source": [
    "a = [[1, 0, 0], \n",
    "     [0, 2, 0], \n",
    "     [0, 1, 5]]\n",
    "\n",
    "b = [[1, 2, 3], \n",
    "     [4, 5, 6], \n",
    "     [7, 8, 9]]\n",
    "\n",
    "rows = len(a)\n",
    "cols = len(b[0])\n",
    "\n",
    "c = [[0 for _ in range(cols)] for _ in range(rows)]\n",
    "\n",
    "for i in range(rows):        \n",
    "    for j in range(cols):   \n",
    "        for k in range(len(b)):  \n",
    "            c[i][j] += a[i][k] * b[k][j]\n",
    "\n",
    "for row in c:\n",
    "    print(row)\n"
   ]
  },
  {
   "cell_type": "markdown",
   "metadata": {},
   "source": [
    "# Activity 4"
   ]
  },
  {
   "cell_type": "code",
   "execution_count": 15,
   "metadata": {},
   "outputs": [
    {
     "name": "stdout",
     "output_type": "stream",
     "text": [
      "Perimeter of the polygon: 14.650281539872886\n"
     ]
    }
   ],
   "source": [
    "import math\n",
    "\n",
    "def calculatePerimeter(points):\n",
    "    perimeter = 0  \n",
    "    n = len(points)\n",
    "\n",
    "    for i in range(n):\n",
    "        x_1, y_1 = points[i]\n",
    "        x_2, y_2 = points[(i + 1) % n]\n",
    "\n",
    "        distance = math.sqrt((x_2 - x_1) ** 2 + (y_2 - y_1) ** 2)\n",
    "        perimeter += distance\n",
    "\n",
    "    return perimeter\n",
    "\n",
    "polygonPoints = [(1, 1), (4, 1), (4, 5), (3, 6), (1, 5), (1, 1)]\n",
    "print(\"Perimeter of the polygon:\", calculatePerimeter(polygonPoints))\n"
   ]
  },
  {
   "cell_type": "markdown",
   "metadata": {},
   "source": [
    "# Activity 5"
   ]
  },
  {
   "cell_type": "code",
   "execution_count": 17,
   "metadata": {},
   "outputs": [
    {
     "name": "stdout",
     "output_type": "stream",
     "text": [
      "Custom function result: [1, 2, 5, 6]\n"
     ]
    }
   ],
   "source": [
    "def symmetric_difference(A, B):\n",
    "    C = [] \n",
    "\n",
    "    for item in A:\n",
    "        if item not in B:\n",
    "            C.append(item)\n",
    "\n",
    "    for item in B:\n",
    "        if item not in A:\n",
    "            C.append(item)\n",
    "\n",
    "    return C  \n",
    "\n",
    "A = [1, 2, 3, 4]\n",
    "B = [3, 4, 5, 6]\n",
    "\n",
    "result = symmetric_difference(A, B)\n",
    "\n",
    "print(\"Custom function result:\", result)\n"
   ]
  },
  {
   "cell_type": "markdown",
   "metadata": {},
   "source": [
    "# Activity 6"
   ]
  },
  {
   "cell_type": "code",
   "execution_count": null,
   "metadata": {},
   "outputs": [],
   "source": [
    "phoneBook = {\n",
    "    (\"Hussain\",\"Raza\"):\"1234567890\",\n",
    "    (\"Mubeen\",\"Lodhi\"):\"9876543210\",\n",
    "    (\"Abdullah\",\"Ajmal\"):\"1236547809\"\n",
    "}\n",
    "firstName  = input(\"Enter First Name:\")\n",
    "lastName = input(\"Enter Last Name:\")\n",
    "searchValue = (firstName,lastName)\n",
    "\n",
    "if (searchValue) in phoneBook:\n",
    "    print (phoneBook[searchValue])\n",
    "else:\n",
    "    print(\"Values Not Found\")"
   ]
  },
  {
   "cell_type": "markdown",
   "metadata": {},
   "source": [
    "# Task 1"
   ]
  },
  {
   "cell_type": "code",
   "execution_count": null,
   "metadata": {},
   "outputs": [
    {
     "name": "stdout",
     "output_type": "stream",
     "text": [
      "[1, 1, 4, 5, 5, 9, 51, 56, 67, 571]\n"
     ]
    }
   ],
   "source": [
    "List_1 = []\n",
    "List_2 = []\n",
    "\n",
    "for i in range(5):\n",
    "    value  = int(input(\"Enter Value For List 1:\"))\n",
    "    List_1.append(value)\n",
    "\n",
    "for i in range(5):\n",
    "    value = int(input(\"Enter The Value For List 2:\"))\n",
    "    List_2.append(value)\n",
    "\n",
    "List_3 = List_1+List_2\n",
    "List_3.sort()\n",
    "print(List_3)"
   ]
  },
  {
   "cell_type": "markdown",
   "metadata": {},
   "source": [
    "# Task 2"
   ]
  },
  {
   "cell_type": "code",
   "execution_count": 30,
   "metadata": {},
   "outputs": [
    {
     "name": "stdout",
     "output_type": "stream",
     "text": [
      "The Minimum Number Is 1\n",
      "The Maximum Number Is 644\n"
     ]
    }
   ],
   "source": [
    "import sys\n",
    "List = []\n",
    "for i in range (5):\n",
    "    value = int(input(\"Enter Value For List:\"))\n",
    "    List.append(value)\n",
    "\n",
    "min = sys.maxsize\n",
    "for i in range (5):\n",
    "    if List[i]<min:\n",
    "        min = List[i]\n",
    "\n",
    "max = 0\n",
    "for i in range (5):\n",
    "    if List[i]>max:\n",
    "        max = List[i]\n",
    "\n",
    "print(f\"The Minimum Number Is {min}\")\n",
    "print(f\"The Maximum Number Is {max}\")"
   ]
  },
  {
   "cell_type": "markdown",
   "metadata": {},
   "source": [
    "# Task 3"
   ]
  },
  {
   "cell_type": "code",
   "execution_count": 48,
   "metadata": {},
   "outputs": [
    {
     "name": "stdout",
     "output_type": "stream",
     "text": [
      "x: -3.142, Approx Derivative: -1.000000, cos(x): -1.000000\n",
      "x: -2.514, Approx Derivative: -0.808910, cos(x): -0.809204\n",
      "x: -1.886, Approx Derivative: -0.309147, cos(x): -0.309623\n",
      "x: -1.258, Approx Derivative: 0.308584, cos(x): 0.308108\n",
      "x: -0.630, Approx Derivative: 0.808562, cos(x): 0.808267\n",
      "x: -0.002, Approx Derivative: 0.999999, cos(x): 0.999999\n",
      "x: 0.626, Approx Derivative: 0.809846, cos(x): 0.810139\n",
      "x: 1.254, Approx Derivative: 0.310662, cos(x): 0.311137\n",
      "x: 1.882, Approx Derivative: -0.307068, cos(x): -0.306592\n",
      "x: 2.510, Approx Derivative: -0.807624, cos(x): -0.807329\n",
      "x: 3.138, Approx Derivative: -0.999996, cos(x): -0.999995\n"
     ]
    }
   ],
   "source": [
    "from math import pi, sin, cos\n",
    "\n",
    "def frange(start, stop, step):\n",
    "    while start < stop:\n",
    "        yield start\n",
    "        start += step\n",
    "\n",
    "h = 0.001  \n",
    "\n",
    "x_values = [i for i in frange(-pi, pi, h)]\n",
    "\n",
    "approx_derivative = [(sin(x + h) - sin(x)) / h for x in x_values]\n",
    "\n",
    "actual_cos_values = [cos(x) for x in x_values]\n",
    "\n",
    "for i in range(0, len(x_values), len(x_values) // 10): \n",
    "    print(f\"x: {x_values[i]:.3f}, Approx Derivative: {approx_derivative[i]:.6f}, cos(x): {actual_cos_values[i]:.6f}\")\n"
   ]
  },
  {
   "cell_type": "markdown",
   "metadata": {},
   "source": [
    "# Task 4"
   ]
  },
  {
   "cell_type": "code",
   "execution_count": 46,
   "metadata": {},
   "outputs": [
    {
     "name": "stdout",
     "output_type": "stream",
     "text": [
      "Welcome To Our BirthDay Dictionary\n",
      "We Know The BirthDays Of \n",
      "Hussain Raza \n",
      "Muaaz Ahemd \n",
      "Abdul Ahad\n",
      "Abdul Ahad's Birthday Is On 15/07/2003\n"
     ]
    }
   ],
   "source": [
    "print(\"Welcome To Our BirthDay Dictionary\")\n",
    "print(\"We Know The BirthDays Of \\nHussain Raza \\nMuaaz Ahemd \\nAbdul Ahad\")\n",
    "birthDayDict = {\n",
    "    (\"Hussain Raza\"):\"03/05/2003\",\n",
    "    (\"Muaaz Ahmed\"):\"12/11/2003\",\n",
    "    (\"Abdul Ahad\"):\"15/07/2003\",\n",
    "}\n",
    "#print(birthDayDict.keys())\n",
    "Name = input(\"Who's BirthDay You Want To Look Up?\")\n",
    "\n",
    "if Name in birthDayDict :\n",
    "    print(Name+\"\\'s Birthday Is On \"+birthDayDict[Name])\n",
    "else:\n",
    "    print(\"We Do Not Have That Information\")"
   ]
  },
  {
   "cell_type": "markdown",
   "metadata": {},
   "source": [
    "# Task 5"
   ]
  },
  {
   "cell_type": "code",
   "execution_count": 50,
   "metadata": {},
   "outputs": [
    {
     "name": "stdout",
     "output_type": "stream",
     "text": [
      "{'Name': 'Sunny', 'Salary': 3300}\n"
     ]
    }
   ],
   "source": [
    "GivenDict = {\n",
    "    \"Name\": \"Sunny\",\n",
    "    \"Age\": 21,\n",
    "    \"Salary\": 3300,\n",
    "    \"City\": \"Lahore\"\n",
    "}\n",
    "Keys = [\"Name\", \"Salary\"]\n",
    "NewDict = {key: GivenDict[key] for key in Keys}\n",
    "\n",
    "print(NewDict)\n"
   ]
  }
 ],
 "metadata": {
  "kernelspec": {
   "display_name": "Python 3",
   "language": "python",
   "name": "python3"
  },
  "language_info": {
   "codemirror_mode": {
    "name": "ipython",
    "version": 3
   },
   "file_extension": ".py",
   "mimetype": "text/x-python",
   "name": "python",
   "nbconvert_exporter": "python",
   "pygments_lexer": "ipython3",
   "version": "3.13.2"
  }
 },
 "nbformat": 4,
 "nbformat_minor": 2
}
