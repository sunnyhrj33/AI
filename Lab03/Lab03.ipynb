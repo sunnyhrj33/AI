{
 "cells": [
  {
   "cell_type": "markdown",
   "metadata": {},
   "source": [
    "# Activity 1"
   ]
  },
  {
   "cell_type": "code",
   "execution_count": null,
   "metadata": {},
   "outputs": [
    {
     "name": "stdout",
     "output_type": "stream",
     "text": [
      "['D', 'B', 'A', 'C', 'F']\n"
     ]
    }
   ],
   "source": [
    "class Node:\n",
    "    def __init__(self, state, parent, actions, totalCost):\n",
    "        self.state = state  \n",
    "        self.parent = parent\n",
    "        self.actions = actions  \n",
    "        self.totalCost = totalCost\n",
    "\n",
    "graph = {\n",
    "    'A': Node('A', None, ['B', 'C', 'E'], None),\n",
    "    'B': Node('B', None, ['A', 'D', 'E'], None),\n",
    "    'C': Node('C', None, ['A', 'F', 'G'], None),\n",
    "    'D': Node('D', None, ['B', 'E'], None),\n",
    "    'E': Node('E', None, ['A', 'B', 'D'], None),\n",
    "    'F': Node('F', None, ['C'], None),\n",
    "    'G': Node('G', None, ['C'], None)\n",
    "}\n",
    "\n",
    "def BFS():\n",
    "    initialState = 'D'\n",
    "    goalState = 'F'\n",
    "    \n",
    "    frontier = [initialState]\n",
    "    explored = []\n",
    "\n",
    "    while len(frontier) != 0:\n",
    "        currentNode = frontier.pop(0)\n",
    "        explored.append(currentNode)\n",
    "\n",
    "        for child in graph[currentNode].actions:\n",
    "            if child not in frontier and child not in explored:\n",
    "                graph[child].parent = currentNode\n",
    "                if graph[child].state == goalState:\n",
    "                    return actionSequence(graph, initialState, goalState)\n",
    "                frontier.append(child)\n",
    "\n",
    "def actionSequence(graph, initialState, goalState):\n",
    "    solution = [goalState]\n",
    "    currentParent = graph[goalState].parent\n",
    "\n",
    "    while currentParent is not None:\n",
    "        solution.append(currentParent)\n",
    "        currentParent = graph[currentParent].parent\n",
    "\n",
    "    solution.reverse()\n",
    "    return solution\n",
    "\n",
    "solution = BFS()\n",
    "print(solution)\n"
   ]
  },
  {
   "cell_type": "markdown",
   "metadata": {},
   "source": [
    "# Lab Task 1"
   ]
  },
  {
   "cell_type": "code",
   "execution_count": null,
   "metadata": {},
   "outputs": [],
   "source": []
  }
 ],
 "metadata": {
  "kernelspec": {
   "display_name": "Python 3",
   "language": "python",
   "name": "python3"
  },
  "language_info": {
   "codemirror_mode": {
    "name": "ipython",
    "version": 3
   },
   "file_extension": ".py",
   "mimetype": "text/x-python",
   "name": "python",
   "nbconvert_exporter": "python",
   "pygments_lexer": "ipython3",
   "version": "3.13.2"
  }
 },
 "nbformat": 4,
 "nbformat_minor": 2
}
