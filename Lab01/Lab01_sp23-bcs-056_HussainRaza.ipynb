{
 "cells": [
  {
   "cell_type": "markdown",
   "metadata": {},
   "source": [
    "# Activity 1"
   ]
  },
  {
   "cell_type": "code",
   "execution_count": 33,
   "metadata": {},
   "outputs": [
    {
     "name": "stdout",
     "output_type": "stream",
     "text": [
      "5 Is An Odd Number\n"
     ]
    }
   ],
   "source": [
    "number = int(input(\"Enter Your Number:\"))\n",
    "if (number % 2 == 0):\n",
    "    print(f\"{number} Is An Even Number\")\n",
    "else:\n",
    "    print(f\"{number} Is An Odd Number\")"
   ]
  },
  {
   "cell_type": "markdown",
   "metadata": {},
   "source": [
    "# Activity 2"
   ]
  },
  {
   "cell_type": "code",
   "execution_count": 1,
   "metadata": {},
   "outputs": [
    {
     "name": "stdout",
     "output_type": "stream",
     "text": [
      "The Sum Of The Provided Numbers Is 15\n"
     ]
    }
   ],
   "source": [
    "Running = True\n",
    "summ = 0\n",
    "while Running:\n",
    "    number = int(input(\"Enter An Integer:\"))\n",
    "    if number == 0:\n",
    "        Running = False\n",
    "    else:\n",
    "        summ = summ + number \n",
    "print(f\"The Sum Of The Provided Numbers Is {summ}\")"
   ]
  },
  {
   "cell_type": "markdown",
   "metadata": {},
   "source": [
    "# Activity 3"
   ]
  },
  {
   "cell_type": "code",
   "execution_count": 1,
   "metadata": {},
   "outputs": [
    {
     "name": "stdout",
     "output_type": "stream",
     "text": [
      "Provided Number 13 Is Prime\n"
     ]
    }
   ],
   "source": [
    "isPrime = True\n",
    "i = 2\n",
    "n = int(input(\"Enter A Number\"))\n",
    "\n",
    "while i<n:\n",
    "    remainder = n % i\n",
    "    if remainder == 0:\n",
    "        isPrime = False\n",
    "        break\n",
    "    else:\n",
    "        i = i + 1\n",
    "\n",
    "if isPrime:\n",
    "    print(f\"Provided Number {n} Is Prime Number\")\n",
    "else:\n",
    "    print(f'{n} Is Not A Prime Number')    \n"
   ]
  },
  {
   "cell_type": "markdown",
   "metadata": {},
   "source": [
    "# Activity 4"
   ]
  },
  {
   "cell_type": "code",
   "execution_count": null,
   "metadata": {},
   "outputs": [],
   "source": [
    "n = int(input('Enter A Number:'))\n",
    "summ = ((n+1)*n)/2\n",
    "print(summ)"
   ]
  },
  {
   "cell_type": "markdown",
   "metadata": {},
   "source": [
    "# Activity 5"
   ]
  },
  {
   "cell_type": "code",
   "execution_count": null,
   "metadata": {},
   "outputs": [],
   "source": [
    "summation = 0\n",
    "i = 1\n",
    "while i <= 10:\n",
    "    summation = summation + i\n",
    "    i = i+1\n",
    "\n",
    "print(summation)"
   ]
  },
  {
   "cell_type": "markdown",
   "metadata": {},
   "source": [
    "# Activity 6"
   ]
  },
  {
   "cell_type": "code",
   "execution_count": 4,
   "metadata": {},
   "outputs": [
    {
     "name": "stdout",
     "output_type": "stream",
     "text": [
      "Hello Sunny\n",
      "You Job Is Student\n",
      "You Said 33\n"
     ]
    }
   ],
   "source": [
    "name = input(\"Enter Your Name:\")\n",
    "print(\"Hello \"+name)\n",
    "\n",
    "job = input(\"What's Your Job?\")\n",
    "print(\"You Job Is \"+job)\n",
    "\n",
    "number = int(input(\"Enter A Number:\"))\n",
    "print(f\"You Said {number}\")"
   ]
  },
  {
   "cell_type": "markdown",
   "metadata": {},
   "source": [
    "# Activity 7"
   ]
  },
  {
   "cell_type": "code",
   "execution_count": null,
   "metadata": {},
   "outputs": [],
   "source": [
    "import random\n",
    "Min = 0\n",
    "Max = 10\n",
    "Guess = random.randint(Min,Max)\n",
    "Attempts = 0\n",
    "Running = True\n",
    "Try = 0\n",
    "\n",
    "while Running:\n",
    "    Try = input(\"Guess The Number(0-10):\")\n",
    "    if int(Try) < Guess:\n",
    "        print(\"Too Low\")\n",
    "        Attempts = Attempts + 1\n",
    "    elif int(Try) > Guess:\n",
    "        print(\"Too High\")\n",
    "        Attempts = Attempts + 1\n",
    "    elif Try.lower == 'exit':\n",
    "        print(\"Better Luck Next Time\")\n",
    "        Attempts = Attempts + 1\n",
    "        Running = False\n",
    "    elif Guess == int(Try):\n",
    "        print(\"Yes That's The One\")\n",
    "        Attempts = Attempts + 1\n",
    "        if Attempts < 2:\n",
    "            print(f\"Impressive {Attempts} Attempts Only\")\n",
    "        elif Attempts < 5:\n",
    "            print(f\"Good Try.{Attempts} Attempts\")\n",
    "        else:\n",
    "            print(f\"Bad You Took {Attempts} Attempts\")\n",
    "        Running = False\n"
   ]
  },
  {
   "cell_type": "markdown",
   "metadata": {},
   "source": [
    "# Task 1"
   ]
  },
  {
   "cell_type": "code",
   "execution_count": 9,
   "metadata": {},
   "outputs": [
    {
     "name": "stdout",
     "output_type": "stream",
     "text": [
      "Reversed Numbers : 021\n"
     ]
    }
   ],
   "source": [
    "number = input(\"Enter The Number:\")\n",
    "number_list = list(number)\n",
    "number_list.reverse()\n",
    "reverse = \"\".join(number_list)\n",
    "print(\"Reversed Numbers :\",reverse)   \n"
   ]
  },
  {
   "cell_type": "markdown",
   "metadata": {},
   "source": [
    "# Task 2"
   ]
  },
  {
   "cell_type": "code",
   "execution_count": 11,
   "metadata": {},
   "outputs": [
    {
     "name": "stdout",
     "output_type": "stream",
     "text": [
      "Even Sum = 12\n",
      "Odd Sum = 9\n"
     ]
    }
   ],
   "source": [
    "Running = True\n",
    "even_sum = 0\n",
    "odd_sum = 0\n",
    "while Running:\n",
    "    value = int(input(\"Enter An Integer or 0 To Quit:\"))\n",
    "    if value == 0:\n",
    "        Running = False\n",
    "    else:\n",
    "        if value % 2 == 0:\n",
    "            even_sum = even_sum + value\n",
    "        else:\n",
    "            odd_sum = odd_sum + value\n",
    "\n",
    "print(f\"Even Sum = {even_sum}\")\n",
    "print(f\"Odd Sum = {odd_sum}\")\n",
    "    "
   ]
  },
  {
   "cell_type": "markdown",
   "metadata": {},
   "source": [
    "# Task 3"
   ]
  },
  {
   "cell_type": "code",
   "execution_count": null,
   "metadata": {},
   "outputs": [
    {
     "ename": "SyntaxError",
     "evalue": "'tuple' is an illegal expression for augmented assignment (555673250.py, line 7)",
     "output_type": "error",
     "traceback": [
      "\u001b[1;36m  Cell \u001b[1;32mIn[2], line 7\u001b[1;36m\u001b[0m\n\u001b[1;33m    a,b += b,a + b\u001b[0m\n\u001b[1;37m    ^\u001b[0m\n\u001b[1;31mSyntaxError\u001b[0m\u001b[1;31m:\u001b[0m 'tuple' is an illegal expression for augmented assignment\n"
     ]
    }
   ],
   "source": [
    "value  = int(input(\"Enter The Number:\"))\n",
    "a = 0\n",
    "b = 1\n",
    "\n",
    "for i in range (value):\n",
    "    print(a)\n",
    "    a,b = b,a + b"
   ]
  },
  {
   "cell_type": "markdown",
   "metadata": {},
   "source": [
    "# Task 4"
   ]
  },
  {
   "cell_type": "code",
   "execution_count": null,
   "metadata": {},
   "outputs": [
    {
     "name": "stdout",
     "output_type": "stream",
     "text": [
      "Grade D\n"
     ]
    }
   ],
   "source": [
    "marks = int(input(\"Enter Your Marks:\"))\n",
    "\n",
    "if marks < 50 :\n",
    "    print(\"Grade F\")\n",
    "elif marks < 60:\n",
    "    print(\"Grade E\")\n",
    "elif marks < 70:\n",
    "    print(\"Grade D\")\n",
    "elif marks < 80:\n",
    "    print(\"Grade C\")\n",
    "elif marks < 90:\n",
    "    print(\"Grade B\")\n",
    "else :\n",
    "    print(\"Grade A\")"
   ]
  },
  {
   "cell_type": "markdown",
   "metadata": {},
   "source": [
    "# Task 5\n"
   ]
  },
  {
   "cell_type": "code",
   "execution_count": 32,
   "metadata": {},
   "outputs": [
    {
     "name": "stdout",
     "output_type": "stream",
     "text": [
      "Iterative Approach: 3628800\n",
      "Recursive Approach: 3628800\n"
     ]
    }
   ],
   "source": [
    "value  = int(input(\"Enter The Number:\"))\n",
    "\n",
    "#Iterative\n",
    "fact_Iterative = value\n",
    "sum_Iterative = 1\n",
    "\n",
    "while fact_Iterative > 0:\n",
    "    sum_Iterative = fact_Iterative * sum_Iterative\n",
    "    fact_Iterative = fact_Iterative - 1\n",
    "print(f\"Iterative Approach: {sum_Iterative}\")\n",
    "\n",
    "#Recursion\n",
    "def recursion(number):\n",
    "    if number == 0:\n",
    "        return 1\n",
    "    else:\n",
    "        return number * recursion (number-1)\n",
    "print(f\"Recursive Approach: {recursion(value)}\")\n",
    "\n",
    "    \n",
    "    \n",
    "    "
   ]
  }
 ],
 "metadata": {
  "kernelspec": {
   "display_name": "Python 3",
   "language": "python",
   "name": "python3"
  },
  "language_info": {
   "codemirror_mode": {
    "name": "ipython",
    "version": 3
   },
   "file_extension": ".py",
   "mimetype": "text/x-python",
   "name": "python",
   "nbconvert_exporter": "python",
   "pygments_lexer": "ipython3",
   "version": "3.13.2"
  }
 },
 "nbformat": 4,
 "nbformat_minor": 2
}
